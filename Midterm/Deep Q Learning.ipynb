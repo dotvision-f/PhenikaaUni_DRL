{
 "cells": [
  {
   "cell_type": "markdown",
   "metadata": {},
   "source": [
    "## Importing necessary libraries:"
   ]
  },
  {
   "cell_type": "code",
   "execution_count": 1,
   "metadata": {},
   "outputs": [
    {
     "name": "stdout",
     "output_type": "stream",
     "text": [
      "pygame 2.5.2 (SDL 2.28.3, Python 3.11.7)\n",
      "Hello from the pygame community. https://www.pygame.org/contribute.html\n"
     ]
    }
   ],
   "source": [
    "import os\n",
    "import pygame\n",
    "DISPLAY = True\n",
    "if not DISPLAY:\n",
    "    os.environ[\"SDL_VIDEODRIVER\"] = \"dummy\""
   ]
  },
  {
   "cell_type": "code",
   "execution_count": 2,
   "metadata": {},
   "outputs": [],
   "source": [
    "import os, sys\n",
    "sys.path.append('game/')\n",
    "import flappy_wrapped as game\n",
    "import cv2\n",
    "import numpy as np\n",
    "import time\n",
    "%matplotlib inline\n",
    "import matplotlib.pyplot as plt\n",
    "import collections\n",
    "import pandas as pd\n",
    "\n",
    "import torch\n",
    "import torch.nn as nn\n",
    "import torch.optim as optim\n",
    "\n",
    "device = torch.device( \"cuda\" if torch.cuda.is_available() else \"cpu\" )"
   ]
  },
  {
   "cell_type": "markdown",
   "metadata": {},
   "source": [
    "## Khai bao siêu tham số\n"
   ]
  },
  {
   "cell_type": "code",
   "execution_count": 3,
   "metadata": {},
   "outputs": [],
   "source": [
    "# Action of Agent\n",
    "ACTIONS = [0,1]\n",
    "# Size of buffer experience\n",
    "EXPERIENCE_BUFFER_SIZE = 2000\n",
    "# Number of images in one train\n",
    "STATE_DIM = 4\n",
    "# Gamma\n",
    "GAMMA = 0.99\n",
    "# Epsilon, decreasing with each epochs\n",
    "EPSILON_START = 1\n",
    "EPSILON_FINAL = 0.001\n",
    "EPSILON_DECAY_FRAMES = (10**4)/3\n",
    "# Number of goals to achieve\n",
    "MEAN_GOAL_REWARD = 10\n",
    "# Batch_size: Number of buffers per training session\n",
    "BATCH_SIZE = 32\n",
    "# Minimum amount of Buffer Experience memory to be able to train\n",
    "MIN_EXP_BUFFER_SIZE = 500\n",
    "# Frame frequency to synchronize Target Network for Online Network\n",
    "SYNC_TARGET_FRAMES = 30\n",
    "# learning rate\n",
    "LEARNING_RATE = 1e-4\n",
    "# skip_frame: number of frames performed with the previous action\n",
    "SKIP_FRAME = 2\n",
    "# Policy for each game's restart.\n",
    "INITIAL_SKIP = [0,1,0,1,0,1,0,0,0,1,0,1,0,1,0,1,0,0,0,0,0,0,0,1,0,1,0,1,0,1,0,1,0,1]\n",
    "# Maximum number of training epochs\n",
    "EPOCHS_MAX = 5000"
   ]
  },
  {
   "cell_type": "markdown",
   "metadata": {},
   "source": [
    "## Defining function used to preprocess game frame data (converting to grayscale):"
   ]
  },
  {
   "cell_type": "code",
   "execution_count": 4,
   "metadata": {},
   "outputs": [],
   "source": [
    "KERNEL = np.array([[-1,-1,-1], [-1, 9,-1],[-1,-1,-1]])\n",
    "IMAGE_SIZE = 84\n",
    "def processFrame(image):\n",
    "    # env.SCREENWIDTH = 288\n",
    "    # env.BASEY = 404\n",
    "    frame = image[55:288, :404] # crop image ->\n",
    "    frame = cv2.cvtColor(frame,cv2.COLOR_BGR2GRAY) # convert image to black and white\n",
    "    frame = cv2.resize(frame,(IMAGE_SIZE,IMAGE_SIZE),interpolation=cv2.INTER_AREA)\n",
    "    _ , frame = cv2.threshold(frame,50,255,cv2.THRESH_BINARY)\n",
    "    frame = cv2.filter2D(frame,-1,KERNEL)\n",
    "    frame = frame.astype(np.float64)/255.0\n",
    "    return frame"
   ]
  },
  {
   "cell_type": "markdown",
   "metadata": {},
   "source": [
    "## Creat Agent, ExperienceBuffer, Loss"
   ]
  },
  {
   "cell_type": "code",
   "execution_count": 5,
   "metadata": {
    "collapsed": true
   },
   "outputs": [],
   "source": [
    "class Agent():\n",
    "    def __init__(self,env,buffer,t_model=\"DQN\",state_buffer_size = STATE_DIM):\n",
    "        self.env = env  # game Flappy Bird\n",
    "        self.exp_buffer = buffer    # memory buffer\n",
    "        self.t_model = t_model      # choose Agent for model: DQN or DDQN with PER\n",
    "        self.state_buffer_size = state_buffer_size  # Number of images in the buffer one train\n",
    "        self.state = collections.deque(maxlen = self.state_buffer_size)\n",
    "        self.next_state= collections.deque(maxlen = self.state_buffer_size)\n",
    "        self._reset()\n",
    "    \n",
    "    # Restart game with fix start policy in INITIAL_SKIP\n",
    "    def _reset(self):\n",
    "        self.total_rewards = 0\n",
    "        self.state.clear()\n",
    "        self.next_state.clear()\n",
    "        \n",
    "        for i in INITIAL_SKIP[:-7]:\n",
    "            image,reward,done = self.env.frame_step(i)\n",
    "            self.total_rewards+=reward\n",
    "            if done:\n",
    "                self._reset()\n",
    "        frame = processFrame(image)\n",
    "        self.state.append(frame)\n",
    "        self.next_state.append(frame)\n",
    "\n",
    "        for i in INITIAL_SKIP[-7:-5]:\n",
    "            image,reward,done = self.env.frame_step(i)\n",
    "            self.total_rewards+=reward\n",
    "            if done:\n",
    "                self._reset()\n",
    "        frame = processFrame(image)\n",
    "        self.state.append(frame)\n",
    "        self.next_state.append(frame)\n",
    "        \n",
    "        for i in INITIAL_SKIP[-5:-3]:\n",
    "            image,reward,done = self.env.frame_step(i)\n",
    "            self.total_rewards+=reward\n",
    "            if done:\n",
    "                self._reset()\n",
    "        frame = processFrame(image)\n",
    "        self.state.append(frame)\n",
    "        self.next_state.append(frame)\n",
    "        \n",
    "        for i in INITIAL_SKIP[-3:-1]:\n",
    "            image,reward,done = self.env.frame_step(i)\n",
    "            self.total_rewards+=reward\n",
    "            if done:\n",
    "                self._reset()\n",
    "        frame = processFrame(image)\n",
    "        self.state.append(frame)\n",
    "        self.next_state.append(frame)\n",
    "    \n",
    "    # Agent takes a action -> Return reward.\n",
    "    def step(self,net,tgt_net,epsilon=0.9,device='cpu'):\n",
    "        # reward in this step\n",
    "        self.total_rewards = 0\n",
    "        # Exploration - Exploitation\n",
    "        if np.random.random() < epsilon:\n",
    "            action = np.random.choice(ACTIONS)\n",
    "        else:\n",
    "            state_v = torch.tensor(np.array([self.state],copy=False),dtype=torch.float32).to(device)\n",
    "            action = int(torch.argmax(net(state_v)))\n",
    "        # Take action\n",
    "        image,reward,done = self.env.frame_step(action)\n",
    "        self.total_rewards += reward\n",
    "        # Take with same previous action for SKIP_FRAME next frame.\n",
    "        for _ in range(SKIP_FRAME):\n",
    "                image,reward,done =  self.env.frame_step(action)\n",
    "                self.total_rewards += reward\n",
    "                if done:\n",
    "                    break\n",
    "                    \n",
    "        frame = processFrame(image)\n",
    "        self.next_state.append(frame)\n",
    "        # Add buffer to memory Experience Buffer\n",
    "        # If DQN: (state, action, reward, done, next_state)\n",
    "        # If PER: ((state, action, reward, done, next_state), p)\n",
    "        if len(self.next_state)==self.state_buffer_size and len(self.state)==self.state_buffer_size:\n",
    "            if self.t_model == \"DQN\":\n",
    "                self.exp_buffer.append((self.state.copy(),action,int(self.total_rewards),done,self.next_state.copy()))\n",
    "            else:\n",
    "                #PER - Prioritized Experience Replay\n",
    "                # o = \n",
    "                o = net( torch.tensor( np.array([self.state]),dtype=torch.float32).to(device)).to('cpu').detach().numpy()[0][action]\n",
    "                e = float(torch.max(tgt_net( torch.tensor( np.array([self.next_state]),dtype=torch.float32).to(device))))\n",
    "                p = abs(o-e)+0.0001\n",
    "                self.exp_buffer.append((self.state.copy(),action,int(self.total_rewards),done,self.next_state.copy()),p)\n",
    "        \n",
    "        self.state.append(frame)\n",
    "        \n",
    "        end_reward = int(self.total_rewards)\n",
    "        if done:\n",
    "            self._reset()\n",
    "        \n",
    "        return end_reward"
   ]
  },
  {
   "cell_type": "code",
   "execution_count": 6,
   "metadata": {
    "collapsed": true
   },
   "outputs": [],
   "source": [
    "class ExperienceBuffer():\n",
    "    # initial memory buffer\n",
    "    def __init__(self,capacity):\n",
    "        self.buffer = collections.deque(maxlen=capacity)\n",
    "    # clear memory buffer\n",
    "    def clear(self):\n",
    "        self.buffer.clear()\n",
    "        \n",
    "    def __len__(self):\n",
    "        return len(self.buffer)\n",
    "    \n",
    "    def append(self,exp):\n",
    "        self.buffer.append(exp)\n",
    "    # get sample in memory buffer with size=batch_size\n",
    "    def sample(self,batch_size):\n",
    "        indices = np.random.choice( range(len(self.buffer)), batch_size)\n",
    "        states,actions,rewards,dones,next_states = zip(*[ self.buffer[idx] for idx in indices ])\n",
    "        return np.array(states), np.array(actions), np.array(rewards, dtype=np.float32),\\\n",
    "    np.array(dones,dtype=np.uint8), np.array(next_states)"
   ]
  },
  {
   "cell_type": "code",
   "execution_count": 7,
   "metadata": {},
   "outputs": [],
   "source": [
    "class ExperienceBufferPER():\n",
    "    # initial memory buffer and priority\n",
    "    def __init__(self,capacity):\n",
    "        self.buffer = collections.deque(maxlen=capacity)\n",
    "        self.priority = collections.deque(maxlen=capacity)\n",
    "    # clear memory buffer and priority\n",
    "    def clear(self):\n",
    "        self.buffer.clear()\n",
    "        self.priority.clear()\n",
    "        \n",
    "    def __len__(self):\n",
    "        return len(self.buffer)\n",
    "    \n",
    "    def append(self,exp,p):\n",
    "        self.buffer.append(exp)\n",
    "        self.priority.append(p)\n",
    "    # get sample in memory buffer with size=batch_size with probability based on priority\n",
    "    def sample(self,batch_size):\n",
    "        probs = np.array(self.priority)/sum(np.array(self.priority))\n",
    "        indices = np.random.choice( range(len(self.buffer)), batch_size, p = probs)\n",
    "        states,actions,rewards,dones,next_states = zip(*[ self.buffer[idx] for idx in indices ])\n",
    "        return np.array(states), np.array(actions), np.array(rewards, dtype=np.float32),\\\n",
    "    np.array(dones,dtype=np.uint8), np.array(next_states)"
   ]
  },
  {
   "cell_type": "code",
   "execution_count": 8,
   "metadata": {},
   "outputs": [],
   "source": [
    "def calc_loss_DQN(batch,net,device='cpu'):\n",
    "    # get data from batch (choosed in memory) and conver to torch Tensor and device\n",
    "    states,actions,rewards,dones,next_states = batch\n",
    "    states_v = torch.tensor(states,dtype=torch.float32).to(device)\n",
    "    actions_v = torch.tensor(actions,dtype=torch.long).to(device)\n",
    "    rewards_v = torch.tensor(rewards).to(device)\n",
    "    dones_v = torch.ByteTensor(dones).to(device)\n",
    "    next_states_v = torch.tensor(next_states,dtype=torch.float32).to(device)\n",
    "    # Predict Q values for state\n",
    "    state_action_values = net(states_v).gather(1, actions_v.unsqueeze(-1)).squeeze(-1)\n",
    "    # Predict values for next state\n",
    "    with torch.no_grad():\n",
    "        next_state_action_values = net(next_states_v)\n",
    "    # Q values with Bellman Equation \n",
    "    next_state_action_values = rewards_v + GAMMA * ((1-dones_v)*torch.max(next_state_action_values,dim=1)[0])\n",
    "    expected_values = next_state_action_values.detach() \n",
    "    # retun loss\n",
    "    return nn.MSELoss()(state_action_values,expected_values)"
   ]
  },
  {
   "cell_type": "code",
   "execution_count": 9,
   "metadata": {
    "collapsed": true
   },
   "outputs": [],
   "source": [
    "def calc_loss_DDQN(batch,net,tgt_net,device='cpu'):\n",
    "    # get data from batch (choosed in memory) and conver to torch Tensor and device\n",
    "    states,actions,rewards,dones,next_states = batch\n",
    "    states_v = torch.tensor(states,dtype=torch.float32).to(device)\n",
    "    actions_v = torch.tensor(actions,dtype=torch.long).to(device)\n",
    "    rewards_v = torch.tensor(rewards).to(device)\n",
    "    dones_v = torch.ByteTensor(dones).to(device)\n",
    "    next_states_v = torch.tensor(next_states,dtype=torch.float32).to(device)\n",
    "    # Predict Q values for state by online network\n",
    "    state_action_values = net(states_v).gather(1, actions_v.unsqueeze(-1)).squeeze(-1)\n",
    "    # Predict Q values for state by target network\n",
    "    next_state_action_values = tgt_net(next_states_v).max(1)[0]\n",
    "    # next_state_action_values[dones_v] = 0.0\n",
    "    next_state_action_values = next_state_action_values.detach() \n",
    "    expected_values = rewards_v +  next_state_action_values * GAMMA\n",
    "    # retun loss\n",
    "    return nn.MSELoss()(state_action_values,expected_values)"
   ]
  },
  {
   "cell_type": "markdown",
   "metadata": {},
   "source": [
    "## DQN Models"
   ]
  },
  {
   "cell_type": "markdown",
   "metadata": {},
   "source": [
    "### Deep Q-Network"
   ]
  },
  {
   "cell_type": "code",
   "execution_count": 10,
   "metadata": {},
   "outputs": [],
   "source": [
    "#@title Model DQN\n",
    "class DQN(nn.Module):\n",
    "    def __init__(self, input_shape=[4,84,84], nactions=2):\n",
    "        super(DQN, self).__init__()\n",
    "        self.nactions = nactions\n",
    "        self.conv = nn.Sequential(\n",
    "            nn.Conv2d(input_shape[0],32,kernel_size=4,stride=2),\n",
    "            nn.ReLU(),\n",
    "            nn.Conv2d(32,64,kernel_size=3,stride=2),\n",
    "            nn.ReLU(),\n",
    "            nn.Conv2d(64,64,kernel_size=2,stride=1),\n",
    "            nn.ReLU()\n",
    "        )\n",
    "\n",
    "        conv_out_size = self._get_conv_out(input_shape)\n",
    "\n",
    "        self.fc = nn.Sequential(\n",
    "            nn.Linear(conv_out_size, 512),\n",
    "            nn.ReLU(),\n",
    "            nn.Linear(512, nactions)\n",
    "        )\n",
    "\n",
    "    def _get_conv_out(self,shape):\n",
    "        o = self.conv( torch.zeros(1,*shape) )\n",
    "        return int(np.prod(o.size()))\n",
    "\n",
    "    def forward(self, x):\n",
    "        conv_out = self.conv(x).view(x.size()[0], -1)\n",
    "        x = self.fc(conv_out)\n",
    "\n",
    "        return x"
   ]
  },
  {
   "cell_type": "code",
   "execution_count": null,
   "metadata": {},
   "outputs": [
    {
     "ename": "",
     "evalue": "",
     "output_type": "error",
     "traceback": [
      "\u001b[1;31mThe Kernel crashed while executing code in the current cell or a previous cell. \n",
      "\u001b[1;31mPlease review the code in the cell(s) to identify a possible cause of the failure. \n",
      "\u001b[1;31mClick <a href='https://aka.ms/vscodeJupyterKernelCrash'>here</a> for more info. \n",
      "\u001b[1;31mView Jupyter <a href='command:jupyter.viewOutput'>log</a> for further details."
     ]
    }
   ],
   "source": [
    "\n",
    "model = DQN()\n",
    "import torchvision\n",
    "from torchview import draw_graph\n",
    "\n",
    "model_graph = draw_graph(model, input_size=(1,3,224,224), expand_nested=True)\n",
    "model_graph.visual_graph"
   ]
  },
  {
   "cell_type": "markdown",
   "metadata": {},
   "source": [
    "### Dueling DQN"
   ]
  },
  {
   "cell_type": "code",
   "execution_count": 12,
   "metadata": {},
   "outputs": [],
   "source": [
    "#@title Model Dueling DQN\n",
    "class DDQN(nn.Module):\n",
    "    def __init__(self,input_shape,nactions):\n",
    "        super(DDQN,self).__init__()\n",
    "        self.nactions = nactions\n",
    "        self.conv = nn.Sequential(\n",
    "            nn.Conv2d(input_shape[0],32,kernel_size=4,stride=2),\n",
    "            nn.ReLU(),\n",
    "            nn.Conv2d(32,64,kernel_size=3,stride=2),\n",
    "            nn.ReLU(),\n",
    "            nn.Conv2d(64,64,kernel_size=2,stride=1),\n",
    "            nn.ReLU()\n",
    "        )\n",
    "        \n",
    "        conv_out_size = self._get_conv_out(input_shape)\n",
    "        \n",
    "        self.fca = nn.Sequential(\n",
    "            nn.Linear( conv_out_size, 512),\n",
    "            nn.ReLU(),\n",
    "            nn.Linear( 512, nactions )\n",
    "        )\n",
    "        \n",
    "        self.fcv = nn.Sequential(\n",
    "            nn.Linear(conv_out_size,512),\n",
    "            nn.ReLU(),\n",
    "            nn.Linear(512,1)\n",
    "        )\n",
    "        \n",
    "    def _get_conv_out(self,shape):\n",
    "        o = self.conv( torch.zeros(1,*shape) )\n",
    "        return int(np.prod(o.size()))\n",
    "    \n",
    "    def forward(self,x):\n",
    "        conv_out = self.conv(x).view(x.size()[0], -1)\n",
    "        action_v = self.fca(conv_out)\n",
    "        value_v = self.fcv(conv_out).expand(x.size(0), self.nactions)\n",
    "        return value_v + action_v - action_v.mean(1).unsqueeze(1).expand(x.size(0), self.nactions)"
   ]
  },
  {
   "cell_type": "markdown",
   "metadata": {},
   "source": [
    "## Training"
   ]
  },
  {
   "cell_type": "markdown",
   "metadata": {},
   "source": [
    "### DQN with experience replay"
   ]
  },
  {
   "cell_type": "code",
   "execution_count": 13,
   "metadata": {},
   "outputs": [
    {
     "name": "stdout",
     "output_type": "stream",
     "text": [
      "REWARD -inf -> -1.0. Model Saved\n",
      "GAME : 10 | EPSILON : 0.9973 | MEAN REWARD : -1.0\n",
      "GAME : 20 | EPSILON : 0.9943 | MEAN REWARD : -1.0\n",
      "GAME : 30 | EPSILON : 0.9913 | MEAN REWARD : -1.0\n",
      "GAME : 40 | EPSILON : 0.9883 | MEAN REWARD : -1.0\n",
      "REWARD -1.0 -> -0.9534883720930233. Model Saved\n",
      "REWARD -0.9534883720930233 -> -0.9166666666666666. Model Saved\n",
      "GAME : 50 | EPSILON : 0.9853 | MEAN REWARD : -0.92\n",
      "GAME : 60 | EPSILON : 0.9823 | MEAN REWARD : -0.9333333333333333\n",
      "GAME : 70 | EPSILON : 0.9793 | MEAN REWARD : -0.9428571428571428\n",
      "GAME : 80 | EPSILON : 0.9763 | MEAN REWARD : -0.95\n",
      "GAME : 90 | EPSILON : 0.9733 | MEAN REWARD : -0.9333333333333333\n",
      "GAME : 100 | EPSILON : 0.9703 | MEAN REWARD : -0.94\n",
      "GAME : 110 | EPSILON : 0.9673 | MEAN REWARD : -0.94\n",
      "GAME : 120 | EPSILON : 0.9643 | MEAN REWARD : -0.94\n",
      "GAME : 130 | EPSILON : 0.9613 | MEAN REWARD : -0.94\n",
      "GAME : 140 | EPSILON : 0.9583 | MEAN REWARD : -0.94\n",
      "GAME : 150 | EPSILON : 0.9553 | MEAN REWARD : -0.98\n",
      "GAME : 160 | EPSILON : 0.9523 | MEAN REWARD : -0.96\n",
      "GAME : 170 | EPSILON : 0.9493 | MEAN REWARD : -0.96\n",
      "GAME : 180 | EPSILON : 0.9463 | MEAN REWARD : -0.96\n",
      "GAME : 190 | EPSILON : 0.9433 | MEAN REWARD : -0.92\n",
      "GAME : 200 | EPSILON : 0.9403 | MEAN REWARD : -0.9\n",
      "REWARD -0.9166666666666666 -> -0.88. Model Saved\n",
      "GAME : 210 | EPSILON : 0.9373 | MEAN REWARD : -0.88\n",
      "REWARD -0.88 -> -0.86. Model Saved\n",
      "REWARD -0.86 -> -0.84. Model Saved\n",
      "REWARD -0.84 -> -0.82. Model Saved\n",
      "GAME : 220 | EPSILON : 0.9343 | MEAN REWARD : -0.82\n",
      "GAME : 230 | EPSILON : 0.9313 | MEAN REWARD : -0.8\n",
      "GAME : 240 | EPSILON : 0.9283 | MEAN REWARD : -0.78\n",
      "REWARD -0.82 -> -0.78. Model Saved\n",
      "GAME : 250 | EPSILON : 0.9253 | MEAN REWARD : -0.78\n",
      "REWARD -0.78 -> -0.76. Model Saved\n",
      "GAME : 260 | EPSILON : 0.9223 | MEAN REWARD : -0.76\n",
      "GAME : 270 | EPSILON : 0.9193 | MEAN REWARD : -0.76\n",
      "REWARD -0.76 -> -0.74. Model Saved\n",
      "REWARD -0.74 -> -0.72. Model Saved\n",
      "GAME : 280 | EPSILON : 0.9163 | MEAN REWARD : -0.72\n",
      "GAME : 290 | EPSILON : 0.9133 | MEAN REWARD : -0.78\n",
      "GAME : 300 | EPSILON : 0.9103 | MEAN REWARD : -0.74\n",
      "GAME : 310 | EPSILON : 0.9073 | MEAN REWARD : -0.76\n",
      "GAME : 320 | EPSILON : 0.9043 | MEAN REWARD : -0.82\n",
      "GAME : 330 | EPSILON : 0.9013 | MEAN REWARD : -0.84\n",
      "GAME : 340 | EPSILON : 0.8983 | MEAN REWARD : -0.82\n",
      "GAME : 350 | EPSILON : 0.8953 | MEAN REWARD : -0.8\n",
      "GAME : 360 | EPSILON : 0.8923 | MEAN REWARD : -0.8\n"
     ]
    },
    {
     "ename": "KeyboardInterrupt",
     "evalue": "",
     "output_type": "error",
     "traceback": [
      "\u001b[1;31m---------------------------------------------------------------------------\u001b[0m",
      "\u001b[1;31mKeyboardInterrupt\u001b[0m                         Traceback (most recent call last)",
      "Cell \u001b[1;32mIn[13], line 44\u001b[0m\n\u001b[0;32m     42\u001b[0m optimizer\u001b[38;5;241m.\u001b[39mzero_grad()\n\u001b[0;32m     43\u001b[0m batch \u001b[38;5;241m=\u001b[39m buffer\u001b[38;5;241m.\u001b[39msample(BATCH_SIZE)\n\u001b[1;32m---> 44\u001b[0m loss_t \u001b[38;5;241m=\u001b[39m calc_loss_DQN(batch,net,device\u001b[38;5;241m=\u001b[39mdevice)\n\u001b[0;32m     45\u001b[0m all_losses\u001b[38;5;241m.\u001b[39mappend(\u001b[38;5;28mfloat\u001b[39m(loss_t))\n\u001b[0;32m     46\u001b[0m all_epsilons\u001b[38;5;241m.\u001b[39mappend(\u001b[38;5;28mfloat\u001b[39m(epsilon))\n",
      "Cell \u001b[1;32mIn[8], line 13\u001b[0m, in \u001b[0;36mcalc_loss_DQN\u001b[1;34m(batch, net, device)\u001b[0m\n\u001b[0;32m     10\u001b[0m state_action_values \u001b[38;5;241m=\u001b[39m net(states_v)\u001b[38;5;241m.\u001b[39mgather(\u001b[38;5;241m1\u001b[39m, actions_v\u001b[38;5;241m.\u001b[39munsqueeze(\u001b[38;5;241m-\u001b[39m\u001b[38;5;241m1\u001b[39m))\u001b[38;5;241m.\u001b[39msqueeze(\u001b[38;5;241m-\u001b[39m\u001b[38;5;241m1\u001b[39m)\n\u001b[0;32m     12\u001b[0m \u001b[38;5;28;01mwith\u001b[39;00m torch\u001b[38;5;241m.\u001b[39mno_grad():\n\u001b[1;32m---> 13\u001b[0m     next_state_action_values \u001b[38;5;241m=\u001b[39m net(next_states_v)\n\u001b[0;32m     14\u001b[0m next_state_action_values \u001b[38;5;241m=\u001b[39m rewards_v \u001b[38;5;241m+\u001b[39m GAMMA \u001b[38;5;241m*\u001b[39m ((\u001b[38;5;241m1\u001b[39m\u001b[38;5;241m-\u001b[39mdones_v)\u001b[38;5;241m*\u001b[39mtorch\u001b[38;5;241m.\u001b[39mmax(next_state_action_values,dim\u001b[38;5;241m=\u001b[39m\u001b[38;5;241m1\u001b[39m)[\u001b[38;5;241m0\u001b[39m])\n\u001b[0;32m     16\u001b[0m next_state_action_values \u001b[38;5;241m=\u001b[39m next_state_action_values\u001b[38;5;241m.\u001b[39mdetach() \n",
      "File \u001b[1;32mc:\\Users\\dotvi\\anaconda3\\Lib\\site-packages\\torch\\nn\\modules\\module.py:1532\u001b[0m, in \u001b[0;36mModule._wrapped_call_impl\u001b[1;34m(self, *args, **kwargs)\u001b[0m\n\u001b[0;32m   1530\u001b[0m     \u001b[38;5;28;01mreturn\u001b[39;00m \u001b[38;5;28mself\u001b[39m\u001b[38;5;241m.\u001b[39m_compiled_call_impl(\u001b[38;5;241m*\u001b[39margs, \u001b[38;5;241m*\u001b[39m\u001b[38;5;241m*\u001b[39mkwargs)  \u001b[38;5;66;03m# type: ignore[misc]\u001b[39;00m\n\u001b[0;32m   1531\u001b[0m \u001b[38;5;28;01melse\u001b[39;00m:\n\u001b[1;32m-> 1532\u001b[0m     \u001b[38;5;28;01mreturn\u001b[39;00m \u001b[38;5;28mself\u001b[39m\u001b[38;5;241m.\u001b[39m_call_impl(\u001b[38;5;241m*\u001b[39margs, \u001b[38;5;241m*\u001b[39m\u001b[38;5;241m*\u001b[39mkwargs)\n",
      "File \u001b[1;32mc:\\Users\\dotvi\\anaconda3\\Lib\\site-packages\\torch\\nn\\modules\\module.py:1541\u001b[0m, in \u001b[0;36mModule._call_impl\u001b[1;34m(self, *args, **kwargs)\u001b[0m\n\u001b[0;32m   1536\u001b[0m \u001b[38;5;66;03m# If we don't have any hooks, we want to skip the rest of the logic in\u001b[39;00m\n\u001b[0;32m   1537\u001b[0m \u001b[38;5;66;03m# this function, and just call forward.\u001b[39;00m\n\u001b[0;32m   1538\u001b[0m \u001b[38;5;28;01mif\u001b[39;00m \u001b[38;5;129;01mnot\u001b[39;00m (\u001b[38;5;28mself\u001b[39m\u001b[38;5;241m.\u001b[39m_backward_hooks \u001b[38;5;129;01mor\u001b[39;00m \u001b[38;5;28mself\u001b[39m\u001b[38;5;241m.\u001b[39m_backward_pre_hooks \u001b[38;5;129;01mor\u001b[39;00m \u001b[38;5;28mself\u001b[39m\u001b[38;5;241m.\u001b[39m_forward_hooks \u001b[38;5;129;01mor\u001b[39;00m \u001b[38;5;28mself\u001b[39m\u001b[38;5;241m.\u001b[39m_forward_pre_hooks\n\u001b[0;32m   1539\u001b[0m         \u001b[38;5;129;01mor\u001b[39;00m _global_backward_pre_hooks \u001b[38;5;129;01mor\u001b[39;00m _global_backward_hooks\n\u001b[0;32m   1540\u001b[0m         \u001b[38;5;129;01mor\u001b[39;00m _global_forward_hooks \u001b[38;5;129;01mor\u001b[39;00m _global_forward_pre_hooks):\n\u001b[1;32m-> 1541\u001b[0m     \u001b[38;5;28;01mreturn\u001b[39;00m forward_call(\u001b[38;5;241m*\u001b[39margs, \u001b[38;5;241m*\u001b[39m\u001b[38;5;241m*\u001b[39mkwargs)\n\u001b[0;32m   1543\u001b[0m \u001b[38;5;28;01mtry\u001b[39;00m:\n\u001b[0;32m   1544\u001b[0m     result \u001b[38;5;241m=\u001b[39m \u001b[38;5;28;01mNone\u001b[39;00m\n",
      "Cell \u001b[1;32mIn[10], line 28\u001b[0m, in \u001b[0;36mDQN.forward\u001b[1;34m(self, x)\u001b[0m\n\u001b[0;32m     27\u001b[0m \u001b[38;5;28;01mdef\u001b[39;00m \u001b[38;5;21mforward\u001b[39m(\u001b[38;5;28mself\u001b[39m, x):\n\u001b[1;32m---> 28\u001b[0m     conv_out \u001b[38;5;241m=\u001b[39m \u001b[38;5;28mself\u001b[39m\u001b[38;5;241m.\u001b[39mconv(x)\u001b[38;5;241m.\u001b[39mview(x\u001b[38;5;241m.\u001b[39msize()[\u001b[38;5;241m0\u001b[39m], \u001b[38;5;241m-\u001b[39m\u001b[38;5;241m1\u001b[39m)\n\u001b[0;32m     29\u001b[0m     x \u001b[38;5;241m=\u001b[39m \u001b[38;5;28mself\u001b[39m\u001b[38;5;241m.\u001b[39mfc(conv_out)\n\u001b[0;32m     31\u001b[0m     \u001b[38;5;28;01mreturn\u001b[39;00m x\n",
      "File \u001b[1;32mc:\\Users\\dotvi\\anaconda3\\Lib\\site-packages\\torch\\nn\\modules\\module.py:1532\u001b[0m, in \u001b[0;36mModule._wrapped_call_impl\u001b[1;34m(self, *args, **kwargs)\u001b[0m\n\u001b[0;32m   1530\u001b[0m     \u001b[38;5;28;01mreturn\u001b[39;00m \u001b[38;5;28mself\u001b[39m\u001b[38;5;241m.\u001b[39m_compiled_call_impl(\u001b[38;5;241m*\u001b[39margs, \u001b[38;5;241m*\u001b[39m\u001b[38;5;241m*\u001b[39mkwargs)  \u001b[38;5;66;03m# type: ignore[misc]\u001b[39;00m\n\u001b[0;32m   1531\u001b[0m \u001b[38;5;28;01melse\u001b[39;00m:\n\u001b[1;32m-> 1532\u001b[0m     \u001b[38;5;28;01mreturn\u001b[39;00m \u001b[38;5;28mself\u001b[39m\u001b[38;5;241m.\u001b[39m_call_impl(\u001b[38;5;241m*\u001b[39margs, \u001b[38;5;241m*\u001b[39m\u001b[38;5;241m*\u001b[39mkwargs)\n",
      "File \u001b[1;32mc:\\Users\\dotvi\\anaconda3\\Lib\\site-packages\\torch\\nn\\modules\\module.py:1541\u001b[0m, in \u001b[0;36mModule._call_impl\u001b[1;34m(self, *args, **kwargs)\u001b[0m\n\u001b[0;32m   1536\u001b[0m \u001b[38;5;66;03m# If we don't have any hooks, we want to skip the rest of the logic in\u001b[39;00m\n\u001b[0;32m   1537\u001b[0m \u001b[38;5;66;03m# this function, and just call forward.\u001b[39;00m\n\u001b[0;32m   1538\u001b[0m \u001b[38;5;28;01mif\u001b[39;00m \u001b[38;5;129;01mnot\u001b[39;00m (\u001b[38;5;28mself\u001b[39m\u001b[38;5;241m.\u001b[39m_backward_hooks \u001b[38;5;129;01mor\u001b[39;00m \u001b[38;5;28mself\u001b[39m\u001b[38;5;241m.\u001b[39m_backward_pre_hooks \u001b[38;5;129;01mor\u001b[39;00m \u001b[38;5;28mself\u001b[39m\u001b[38;5;241m.\u001b[39m_forward_hooks \u001b[38;5;129;01mor\u001b[39;00m \u001b[38;5;28mself\u001b[39m\u001b[38;5;241m.\u001b[39m_forward_pre_hooks\n\u001b[0;32m   1539\u001b[0m         \u001b[38;5;129;01mor\u001b[39;00m _global_backward_pre_hooks \u001b[38;5;129;01mor\u001b[39;00m _global_backward_hooks\n\u001b[0;32m   1540\u001b[0m         \u001b[38;5;129;01mor\u001b[39;00m _global_forward_hooks \u001b[38;5;129;01mor\u001b[39;00m _global_forward_pre_hooks):\n\u001b[1;32m-> 1541\u001b[0m     \u001b[38;5;28;01mreturn\u001b[39;00m forward_call(\u001b[38;5;241m*\u001b[39margs, \u001b[38;5;241m*\u001b[39m\u001b[38;5;241m*\u001b[39mkwargs)\n\u001b[0;32m   1543\u001b[0m \u001b[38;5;28;01mtry\u001b[39;00m:\n\u001b[0;32m   1544\u001b[0m     result \u001b[38;5;241m=\u001b[39m \u001b[38;5;28;01mNone\u001b[39;00m\n",
      "File \u001b[1;32mc:\\Users\\dotvi\\anaconda3\\Lib\\site-packages\\torch\\nn\\modules\\container.py:217\u001b[0m, in \u001b[0;36mSequential.forward\u001b[1;34m(self, input)\u001b[0m\n\u001b[0;32m    215\u001b[0m \u001b[38;5;28;01mdef\u001b[39;00m \u001b[38;5;21mforward\u001b[39m(\u001b[38;5;28mself\u001b[39m, \u001b[38;5;28minput\u001b[39m):\n\u001b[0;32m    216\u001b[0m     \u001b[38;5;28;01mfor\u001b[39;00m module \u001b[38;5;129;01min\u001b[39;00m \u001b[38;5;28mself\u001b[39m:\n\u001b[1;32m--> 217\u001b[0m         \u001b[38;5;28minput\u001b[39m \u001b[38;5;241m=\u001b[39m module(\u001b[38;5;28minput\u001b[39m)\n\u001b[0;32m    218\u001b[0m     \u001b[38;5;28;01mreturn\u001b[39;00m \u001b[38;5;28minput\u001b[39m\n",
      "File \u001b[1;32mc:\\Users\\dotvi\\anaconda3\\Lib\\site-packages\\torch\\nn\\modules\\module.py:1532\u001b[0m, in \u001b[0;36mModule._wrapped_call_impl\u001b[1;34m(self, *args, **kwargs)\u001b[0m\n\u001b[0;32m   1530\u001b[0m     \u001b[38;5;28;01mreturn\u001b[39;00m \u001b[38;5;28mself\u001b[39m\u001b[38;5;241m.\u001b[39m_compiled_call_impl(\u001b[38;5;241m*\u001b[39margs, \u001b[38;5;241m*\u001b[39m\u001b[38;5;241m*\u001b[39mkwargs)  \u001b[38;5;66;03m# type: ignore[misc]\u001b[39;00m\n\u001b[0;32m   1531\u001b[0m \u001b[38;5;28;01melse\u001b[39;00m:\n\u001b[1;32m-> 1532\u001b[0m     \u001b[38;5;28;01mreturn\u001b[39;00m \u001b[38;5;28mself\u001b[39m\u001b[38;5;241m.\u001b[39m_call_impl(\u001b[38;5;241m*\u001b[39margs, \u001b[38;5;241m*\u001b[39m\u001b[38;5;241m*\u001b[39mkwargs)\n",
      "File \u001b[1;32mc:\\Users\\dotvi\\anaconda3\\Lib\\site-packages\\torch\\nn\\modules\\module.py:1541\u001b[0m, in \u001b[0;36mModule._call_impl\u001b[1;34m(self, *args, **kwargs)\u001b[0m\n\u001b[0;32m   1536\u001b[0m \u001b[38;5;66;03m# If we don't have any hooks, we want to skip the rest of the logic in\u001b[39;00m\n\u001b[0;32m   1537\u001b[0m \u001b[38;5;66;03m# this function, and just call forward.\u001b[39;00m\n\u001b[0;32m   1538\u001b[0m \u001b[38;5;28;01mif\u001b[39;00m \u001b[38;5;129;01mnot\u001b[39;00m (\u001b[38;5;28mself\u001b[39m\u001b[38;5;241m.\u001b[39m_backward_hooks \u001b[38;5;129;01mor\u001b[39;00m \u001b[38;5;28mself\u001b[39m\u001b[38;5;241m.\u001b[39m_backward_pre_hooks \u001b[38;5;129;01mor\u001b[39;00m \u001b[38;5;28mself\u001b[39m\u001b[38;5;241m.\u001b[39m_forward_hooks \u001b[38;5;129;01mor\u001b[39;00m \u001b[38;5;28mself\u001b[39m\u001b[38;5;241m.\u001b[39m_forward_pre_hooks\n\u001b[0;32m   1539\u001b[0m         \u001b[38;5;129;01mor\u001b[39;00m _global_backward_pre_hooks \u001b[38;5;129;01mor\u001b[39;00m _global_backward_hooks\n\u001b[0;32m   1540\u001b[0m         \u001b[38;5;129;01mor\u001b[39;00m _global_forward_hooks \u001b[38;5;129;01mor\u001b[39;00m _global_forward_pre_hooks):\n\u001b[1;32m-> 1541\u001b[0m     \u001b[38;5;28;01mreturn\u001b[39;00m forward_call(\u001b[38;5;241m*\u001b[39margs, \u001b[38;5;241m*\u001b[39m\u001b[38;5;241m*\u001b[39mkwargs)\n\u001b[0;32m   1543\u001b[0m \u001b[38;5;28;01mtry\u001b[39;00m:\n\u001b[0;32m   1544\u001b[0m     result \u001b[38;5;241m=\u001b[39m \u001b[38;5;28;01mNone\u001b[39;00m\n",
      "File \u001b[1;32mc:\\Users\\dotvi\\anaconda3\\Lib\\site-packages\\torch\\nn\\modules\\conv.py:460\u001b[0m, in \u001b[0;36mConv2d.forward\u001b[1;34m(self, input)\u001b[0m\n\u001b[0;32m    459\u001b[0m \u001b[38;5;28;01mdef\u001b[39;00m \u001b[38;5;21mforward\u001b[39m(\u001b[38;5;28mself\u001b[39m, \u001b[38;5;28minput\u001b[39m: Tensor) \u001b[38;5;241m-\u001b[39m\u001b[38;5;241m>\u001b[39m Tensor:\n\u001b[1;32m--> 460\u001b[0m     \u001b[38;5;28;01mreturn\u001b[39;00m \u001b[38;5;28mself\u001b[39m\u001b[38;5;241m.\u001b[39m_conv_forward(\u001b[38;5;28minput\u001b[39m, \u001b[38;5;28mself\u001b[39m\u001b[38;5;241m.\u001b[39mweight, \u001b[38;5;28mself\u001b[39m\u001b[38;5;241m.\u001b[39mbias)\n",
      "File \u001b[1;32mc:\\Users\\dotvi\\anaconda3\\Lib\\site-packages\\torch\\nn\\modules\\conv.py:456\u001b[0m, in \u001b[0;36mConv2d._conv_forward\u001b[1;34m(self, input, weight, bias)\u001b[0m\n\u001b[0;32m    452\u001b[0m \u001b[38;5;28;01mif\u001b[39;00m \u001b[38;5;28mself\u001b[39m\u001b[38;5;241m.\u001b[39mpadding_mode \u001b[38;5;241m!=\u001b[39m \u001b[38;5;124m'\u001b[39m\u001b[38;5;124mzeros\u001b[39m\u001b[38;5;124m'\u001b[39m:\n\u001b[0;32m    453\u001b[0m     \u001b[38;5;28;01mreturn\u001b[39;00m F\u001b[38;5;241m.\u001b[39mconv2d(F\u001b[38;5;241m.\u001b[39mpad(\u001b[38;5;28minput\u001b[39m, \u001b[38;5;28mself\u001b[39m\u001b[38;5;241m.\u001b[39m_reversed_padding_repeated_twice, mode\u001b[38;5;241m=\u001b[39m\u001b[38;5;28mself\u001b[39m\u001b[38;5;241m.\u001b[39mpadding_mode),\n\u001b[0;32m    454\u001b[0m                     weight, bias, \u001b[38;5;28mself\u001b[39m\u001b[38;5;241m.\u001b[39mstride,\n\u001b[0;32m    455\u001b[0m                     _pair(\u001b[38;5;241m0\u001b[39m), \u001b[38;5;28mself\u001b[39m\u001b[38;5;241m.\u001b[39mdilation, \u001b[38;5;28mself\u001b[39m\u001b[38;5;241m.\u001b[39mgroups)\n\u001b[1;32m--> 456\u001b[0m \u001b[38;5;28;01mreturn\u001b[39;00m F\u001b[38;5;241m.\u001b[39mconv2d(\u001b[38;5;28minput\u001b[39m, weight, bias, \u001b[38;5;28mself\u001b[39m\u001b[38;5;241m.\u001b[39mstride,\n\u001b[0;32m    457\u001b[0m                 \u001b[38;5;28mself\u001b[39m\u001b[38;5;241m.\u001b[39mpadding, \u001b[38;5;28mself\u001b[39m\u001b[38;5;241m.\u001b[39mdilation, \u001b[38;5;28mself\u001b[39m\u001b[38;5;241m.\u001b[39mgroups)\n",
      "\u001b[1;31mKeyboardInterrupt\u001b[0m: "
     ]
    }
   ],
   "source": [
    "# Memory to save data log (loss, epsilons and rewards) during training\n",
    "all_losses = []\n",
    "all_epsilons = []\n",
    "all_rewards = []\n",
    "# Define network\n",
    "net = DQN((STATE_DIM,IMAGE_SIZE,IMAGE_SIZE), len(ACTIONS)).to(device)\n",
    "# Initialize the environment, Agent\n",
    "env = game.GameState()\n",
    "buffer = ExperienceBuffer(EXPERIENCE_BUFFER_SIZE) # Using ExperienceBuffer with DQN\n",
    "agent = Agent(env,buffer,t_model=\"DQN\") # Using Agent with DQN\n",
    "epsilon = EPSILON_START\n",
    "optimizer = optim.Adam(net.parameters(),lr=LEARNING_RATE)\n",
    "total_rewards = []  # List of rewards during training\n",
    "best_mean_reward = float('-inf')    # value best_mean_reward \n",
    "last_mean = float('-inf')   # the last mean_reward is saved\n",
    "game_id = 0 # number of games played\n",
    "while game_id < EPOCHS_MAX:\n",
    "    # Set epsilon, decreasing with each epochs\n",
    "    epsilon = max( EPSILON_FINAL , EPSILON_START - game_id/EPSILON_DECAY_FRAMES )\n",
    "    # take action\n",
    "    reward = agent.step(net,0,epsilon,device=device)\n",
    "    if reward != 0: # when die or overcome obstacles\n",
    "        game_id += 1\n",
    "        total_rewards.append(reward)\n",
    "        mean_reward = np.mean(total_rewards[-100:]) # get mean reward from the last 100 reward changes\n",
    "        if game_id%10 == 0:\n",
    "            print(\"GAME : {} | EPSILON : {:.4f} | MEAN REWARD : {}\".format( game_id, epsilon, mean_reward ))\n",
    "        if best_mean_reward < mean_reward:  # save best_mean_reward\n",
    "            best_mean_reward = mean_reward\n",
    "            \n",
    "            if best_mean_reward - last_mean >= 0.1: # save last mean_reward and model parameter when mean_reward increase by at least 0.1\n",
    "                torch.save(net.state_dict(),'checkpoints/best_DQN.dat')\n",
    "                print(\"REWARD {} -> {}. Model Saved\".format(last_mean,mean_reward))\n",
    "                last_mean = best_mean_reward\n",
    "        # Stop training when achieve the set target number\n",
    "        if mean_reward >= MEAN_GOAL_REWARD:\n",
    "            print(\"Learned in {} Games.\".format(game_id))\n",
    "            break\n",
    "    # Save the minimum number of buffers to be able to perform training\n",
    "    if len(buffer) < MIN_EXP_BUFFER_SIZE:\n",
    "        continue\n",
    "    # Training\n",
    "    optimizer.zero_grad()\n",
    "    batch = buffer.sample(BATCH_SIZE)   # get sample with BATCH_SIZE buffers\n",
    "    loss_t = calc_loss_DQN(batch,net,device=device) # Using calc_loss_DQN with DQN\n",
    "    all_losses.append(float(loss_t))\n",
    "    all_epsilons.append(float(epsilon))\n",
    "    all_rewards.append(mean_reward)\n",
    "    loss_t.backward()\n",
    "    optimizer.step()\n",
    "\n",
    "\n",
    "# dictionary of lists\n",
    "dict = {'Loss': all_losses, 'Epsilon': all_epsilons, 'Reward': all_rewards}\n",
    "# saving the dataframe\n",
    "df = pd.DataFrame(dict)\n",
    "# save to .csv\n",
    "df.to_csv('log/DQN.csv')\n"
   ]
  },
  {
   "cell_type": "code",
   "execution_count": 80,
   "metadata": {},
   "outputs": [
    {
     "data": {
      "text/plain": [
       "[<matplotlib.lines.Line2D at 0x1b8d0c9e750>]"
      ]
     },
     "execution_count": 80,
     "metadata": {},
     "output_type": "execute_result"
    },
    {
     "data": {
      "image/png": "[encoded data removed]",
      "text/plain": [
       "<Figure size 640x480 with 1 Axes>"
      ]
     },
     "metadata": {},
     "output_type": "display_data"
    }
   ],
   "source": [
    "plt.title(\"Loss of DQN\")\n",
    "plt.xlabel(\"Epochs\")\n",
    "plt.ylabel(\"Loss\")\n",
    "plt.plot(all_losses)\n",
    "plt.savefig('log/Loss_DQN.png')"
   ]
  },
  {
   "cell_type": "code",
   "execution_count": 82,
   "metadata": {},
   "outputs": [
    {
     "data": {
      "image/png": "[encoded data removed]",
      "text/plain": [
       "<Figure size 640x480 with 1 Axes>"
      ]
     },
     "metadata": {},
     "output_type": "display_data"
    }
   ],
   "source": [
    "plt.title(\"Rewards of DQN\")\n",
    "plt.xlabel(\"Epochs\")\n",
    "plt.ylabel(\"Rewards\")\n",
    "plt.plot(all_rewards)\n",
    "plt.savefig('log/Reward_DQN.png')\n"
   ]
  },
  {
   "cell_type": "markdown",
   "metadata": {},
   "source": [
    "### Double DQN\n"
   ]
  },
  {
   "cell_type": "code",
   "execution_count": null,
   "metadata": {},
   "outputs": [],
   "source": [
    "#@title Double DQN\n",
    "\n",
    "all_losses = []\n",
    "all_epsilons = []\n",
    "all_rewards = []\n",
    "\n",
    "\n",
    "net = DQN( (STATE_DIM,84,84), len(ACTIONS) ).to(device)\n",
    "tgt_net = DQN( (STATE_DIM,84,84), len(ACTIONS) ).to(device) # have Target Network\n",
    "\n",
    "env = game.GameState()\n",
    "buffer = ExperienceBuffer(EXPERIENCE_BUFFER_SIZE) # Using ExperienceBuffer with DQN\n",
    "agent = Agent(env,buffer) # Using Agent with DQN\n",
    "epsilon = EPSILON_START\n",
    "optimizer = optim.Adam(net.parameters(),lr=LEARNING_RATE)\n",
    "\n",
    "total_rewards = []\n",
    "best_mean_reward = float('-inf')\n",
    "last_mean = float('-inf')\n",
    "game_id = 0\n",
    "while game_id < EPOCHS_MAX:\n",
    "    epsilon = max( EPSILON_FINAL , EPSILON_START - game_id/EPSILON_DECAY_FRAMES )\n",
    "    \n",
    "    reward = agent.step(net,tgt_net,epsilon,device=device)\n",
    "    if reward != 0:\n",
    "        game_id += 1\n",
    "        total_rewards.append(reward)\n",
    "        mean_reward = np.mean(total_rewards[-100:])\n",
    "        if game_id%5 == 0:\n",
    "            print(\"GAME : {} | EPSILON : {:.4f} | MEAN REWARD : {}\".format( game_id, epsilon, mean_reward ))\n",
    "        if best_mean_reward < mean_reward:\n",
    "            best_mean_reward = mean_reward\n",
    "            \n",
    "            if best_mean_reward - last_mean >= 0.1:\n",
    "                torch.save(net.state_dict(),'checkpoints/best_DDQN.dat')\n",
    "                print(\"REWARD {} -> {}. Model Saved\".format(last_mean,mean_reward))\n",
    "                last_mean = best_mean_reward\n",
    "\n",
    "        if game_id % SYNC_TARGET_FRAMES == 0:\n",
    "            tgt_net.load_state_dict(net.state_dict())\n",
    "            \n",
    "        if mean_reward >= MEAN_GOAL_REWARD:\n",
    "            print(\"Learned in {} Games.\".format(game_id))\n",
    "            break\n",
    "    \n",
    "    if len(buffer) < MIN_EXP_BUFFER_SIZE:\n",
    "        continue\n",
    "    \n",
    "    optimizer.zero_grad()\n",
    "    batch = buffer.sample(BATCH_SIZE)\n",
    "    loss_t = calc_loss_DDQN(batch,net,tgt_net,device=device)    # Using calc_loss_DDQN with DDQN\n",
    "    all_losses.append(float(loss_t))\n",
    "    all_epsilons.append(float(epsilon))\n",
    "    all_rewards.append(mean_reward)\n",
    "    loss_t.backward()\n",
    "    optimizer.step()\n",
    "\n",
    "# dictionary of lists\n",
    "dict = {'Loss': all_losses, 'Epsilon': all_epsilons, 'Reward': all_rewards}\n",
    "# saving the dataframe\n",
    "df = pd.DataFrame(dict)\n",
    "# save to .csv\n",
    "df.to_csv('log/DDQN.csv')"
   ]
  },
  {
   "cell_type": "code",
   "execution_count": null,
   "metadata": {},
   "outputs": [],
   "source": [
    "plt.title(\"Loss of DDQN\")\n",
    "plt.xlabel(\"Epochs\")\n",
    "plt.ylabel(\"Loss\")\n",
    "plt.plot(all_losses)\n",
    "plt.savefig('log/Loss_DDQN.png')"
   ]
  },
  {
   "cell_type": "code",
   "execution_count": null,
   "metadata": {},
   "outputs": [],
   "source": [
    "plt.title(\"Rewards of DDQN\")\n",
    "plt.xlabel(\"Epochs\")\n",
    "plt.ylabel(\"Rewards\")\n",
    "plt.plot(all_rewards)\n",
    "plt.savefig('log/Reward_DDQN.png')"
   ]
  },
  {
   "cell_type": "markdown",
   "metadata": {},
   "source": [
    "### Dueling DDQN with Prioritized Experience Replay"
   ]
  },
  {
   "cell_type": "code",
   "execution_count": 68,
   "metadata": {
    "scrolled": false
   },
   "outputs": [
    {
     "name": "stdout",
     "output_type": "stream",
     "text": [
      "REWARD -inf -> -1.0. Model Saved\n",
      "GAME : 5 | EPSILON : 0.9988 | MEAN REWARD : -1.0\n"
     ]
    },
    {
     "ename": "KeyboardInterrupt",
     "evalue": "",
     "output_type": "error",
     "traceback": [
      "\u001b[1;31m---------------------------------------------------------------------------\u001b[0m",
      "\u001b[1;31mKeyboardInterrupt\u001b[0m                         Traceback (most recent call last)",
      "Cell \u001b[1;32mIn[68], line 21\u001b[0m\n\u001b[0;32m     18\u001b[0m \u001b[38;5;28;01mwhile\u001b[39;00m \u001b[38;5;28;01mTrue\u001b[39;00m:\n\u001b[0;32m     19\u001b[0m     epsilon \u001b[38;5;241m=\u001b[39m \u001b[38;5;28mmax\u001b[39m( EPSILON_FINAL , EPSILON_START \u001b[38;5;241m-\u001b[39m game_id\u001b[38;5;241m/\u001b[39mEPSILON_DECAY_FRAMES )\n\u001b[1;32m---> 21\u001b[0m     reward \u001b[38;5;241m=\u001b[39m agent\u001b[38;5;241m.\u001b[39mstep(net,tgt_net,epsilon,device\u001b[38;5;241m=\u001b[39mdevice)\n\u001b[0;32m     22\u001b[0m     \u001b[38;5;28;01mif\u001b[39;00m reward \u001b[38;5;241m!=\u001b[39m \u001b[38;5;241m0\u001b[39m:\n\u001b[0;32m     23\u001b[0m         game_id \u001b[38;5;241m+\u001b[39m\u001b[38;5;241m=\u001b[39m \u001b[38;5;241m1\u001b[39m\n",
      "Cell \u001b[1;32mIn[63], line 60\u001b[0m, in \u001b[0;36mAgent.step\u001b[1;34m(self, net, tgt_net, epsilon, device)\u001b[0m\n\u001b[0;32m     57\u001b[0m     state_v \u001b[38;5;241m=\u001b[39m torch\u001b[38;5;241m.\u001b[39mtensor(np\u001b[38;5;241m.\u001b[39marray([\u001b[38;5;28mself\u001b[39m\u001b[38;5;241m.\u001b[39mstate],copy\u001b[38;5;241m=\u001b[39m\u001b[38;5;28;01mFalse\u001b[39;00m),dtype\u001b[38;5;241m=\u001b[39mtorch\u001b[38;5;241m.\u001b[39mfloat32)\u001b[38;5;241m.\u001b[39mto(device)\n\u001b[0;32m     58\u001b[0m     action \u001b[38;5;241m=\u001b[39m \u001b[38;5;28mint\u001b[39m(torch\u001b[38;5;241m.\u001b[39margmax(net(state_v)))\n\u001b[1;32m---> 60\u001b[0m image,reward,done \u001b[38;5;241m=\u001b[39m \u001b[38;5;28mself\u001b[39m\u001b[38;5;241m.\u001b[39menv\u001b[38;5;241m.\u001b[39mframe_step(action)\n\u001b[0;32m     61\u001b[0m \u001b[38;5;28mself\u001b[39m\u001b[38;5;241m.\u001b[39mtotal_rewards \u001b[38;5;241m+\u001b[39m\u001b[38;5;241m=\u001b[39m reward\n\u001b[0;32m     62\u001b[0m \u001b[38;5;28;01mfor\u001b[39;00m _ \u001b[38;5;129;01min\u001b[39;00m \u001b[38;5;28mrange\u001b[39m(SKIP_FRAME):\n",
      "File \u001b[1;32mg:\\My Drive\\DATA\\Phenikaa University\\PU-Y4-S3\\Advanced reinforcement learning\\Midterm\\flappy-bird-deep-q-learning-master\\flappy-bird-deep-q-learning-master\\game\\flappy_wrapped.py:148\u001b[0m, in \u001b[0;36mGameState.frame_step\u001b[1;34m(self, input_action)\u001b[0m\n\u001b[0;32m    146\u001b[0m image_data \u001b[38;5;241m=\u001b[39m pygame\u001b[38;5;241m.\u001b[39msurfarray\u001b[38;5;241m.\u001b[39marray3d(pygame\u001b[38;5;241m.\u001b[39mdisplay\u001b[38;5;241m.\u001b[39mget_surface())\n\u001b[0;32m    147\u001b[0m pygame\u001b[38;5;241m.\u001b[39mdisplay\u001b[38;5;241m.\u001b[39mupdate()\n\u001b[1;32m--> 148\u001b[0m FPSCLOCK\u001b[38;5;241m.\u001b[39mtick(FPS)\n\u001b[0;32m    149\u001b[0m \u001b[38;5;66;03m#print self.upperPipes[0]['y'] + PIPE_HEIGHT - int(BASEY * 0.2)\u001b[39;00m\n\u001b[0;32m    150\u001b[0m \u001b[38;5;28;01mreturn\u001b[39;00m image_data, reward, terminal\n",
      "\u001b[1;31mKeyboardInterrupt\u001b[0m: "
     ]
    }
   ],
   "source": [
    "#@title Dueling DDQN with \n",
    "\n",
    "all_losses = []\n",
    "all_epsilons = []\n",
    "all_rewards = []\n",
    "\n",
    "\n",
    "net = DDQN( (STATE_DIM,84,84), len(ACTIONS) ).to(device)\n",
    "tgt_net = DDQN( (STATE_DIM,84,84), len(ACTIONS) ).to(device)\n",
    "\n",
    "env = game.GameState()\n",
    "buffer = ExperienceBufferPER(EXPERIENCE_BUFFER_SIZE)    # Using ExperienceBufferPER with PER\n",
    "agent = Agent(env,buffer, t_model=\"PER\")    # Using Agent with PER\n",
    "epsilon = EPSILON_START\n",
    "optimizer = optim.Adam(net.parameters(),lr=LEARNING_RATE)\n",
    "\n",
    "total_rewards = []\n",
    "best_mean_reward = float('-inf')\n",
    "last_mean = float('-inf')\n",
    "game_id = 0\n",
    "while game_id < EPOCHS_MAX:\n",
    "    epsilon = max( EPSILON_FINAL , EPSILON_START - game_id/EPSILON_DECAY_FRAMES )\n",
    "    \n",
    "    reward = agent.step(net,tgt_net,epsilon,device=device)\n",
    "    if reward != 0:\n",
    "        game_id += 1\n",
    "        total_rewards.append(reward)\n",
    "        mean_reward = np.mean(total_rewards[-100:])\n",
    "        if game_id%5 == 0:\n",
    "            print(\"GAME : {} | EPSILON : {:.4f} | MEAN REWARD : {}\".format( game_id, epsilon, mean_reward ))\n",
    "        if best_mean_reward < mean_reward:\n",
    "            best_mean_reward = mean_reward\n",
    "            \n",
    "            if best_mean_reward - last_mean >= 0.1:\n",
    "                torch.save(net.state_dict(),'checkpoints/best_DuelingDQN_PER.dat')\n",
    "                print(\"REWARD {} -> {}. Model Saved\".format(last_mean,mean_reward))\n",
    "                last_mean = best_mean_reward\n",
    "\n",
    "        if game_id % SYNC_TARGET_FRAMES == 0:\n",
    "            tgt_net.load_state_dict(net.state_dict())\n",
    "            \n",
    "        if mean_reward >= MEAN_GOAL_REWARD:\n",
    "            print(\"Learned in {} Games.\".format(game_id))\n",
    "            break\n",
    "    \n",
    "    if len(buffer) < MIN_EXP_BUFFER_SIZE:\n",
    "        continue\n",
    "    \n",
    "    optimizer.zero_grad()\n",
    "    batch = buffer.sample(BATCH_SIZE)\n",
    "    loss_t = calc_loss_DDQN(batch,net,tgt_net,device=device)    # Using calc_loss_DDQN with DDQN\n",
    "    all_losses.append(float(loss_t))\n",
    "    all_epsilons.append(float(epsilon))\n",
    "    all_rewards.append(mean_reward)\n",
    "    loss_t.backward()\n",
    "    optimizer.step()\n",
    "\n",
    "# dictionary of lists\n",
    "dict = {'Loss': all_losses, 'Epsilon': all_epsilons, 'Reward': all_rewards}\n",
    "# saving the dataframe\n",
    "df = pd.DataFrame(dict)\n",
    "# save to .csv\n",
    "df.to_csv('log/Dueling_DDQN.csv')"
   ]
  },
  {
   "cell_type": "code",
   "execution_count": null,
   "metadata": {},
   "outputs": [],
   "source": [
    "plt.title(\"Loss of Dueling_DDQN_PER\")\n",
    "plt.xlabel(\"Epochs\")\n",
    "plt.ylabel(\"Loss\")\n",
    "plt.plot(all_losses)\n",
    "plt.savefig('log/Loss_Dueling_DDQN_PER.png')"
   ]
  },
  {
   "cell_type": "code",
   "execution_count": null,
   "metadata": {},
   "outputs": [],
   "source": [
    "plt.title(\"Rewards of Dueling_DDQN_PER\")\n",
    "plt.xlabel(\"Epochs\")\n",
    "plt.ylabel(\"Rewards\")\n",
    "plt.plot(all_rewards)\n",
    "plt.savefig('log/Reward_Dueling_DDQN_PER.png')"
   ]
  }
 ],
 "metadata": {
  "kernelspec": {
   "display_name": "Python 3",
   "language": "python",
   "name": "python3"
  },
  "language_info": {
   "codemirror_mode": {
    "name": "ipython",
    "version": 3
   },
   "file_extension": ".py",
   "mimetype": "text/x-python",
   "name": "python",
   "nbconvert_exporter": "python",
   "pygments_lexer": "ipython3",
   "version": "3.11.7"
  }
 },
 "nbformat": 4,
 "nbformat_minor": 2
}
